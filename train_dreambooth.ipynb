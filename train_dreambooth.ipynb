{
 "cells": [
  {
   "cell_type": "code",
   "execution_count": 1,
   "metadata": {},
   "outputs": [
    {
     "name": "stderr",
     "output_type": "stream",
     "text": [
      "c:\\Users\\precision\\AppData\\Local\\Programs\\Python\\Python310\\lib\\site-packages\\tqdm\\auto.py:21: TqdmWarning: IProgress not found. Please update jupyter and ipywidgets. See https://ipywidgets.readthedocs.io/en/stable/user_install.html\n",
      "  from .autonotebook import tqdm as notebook_tqdm\n",
      "Loading pipeline components...: 100%|██████████| 7/7 [00:00<00:00,  7.27it/s]\n"
     ]
    }
   ],
   "source": [
    "from diffusers import StableDiffusionPipeline\n",
    "\n",
    "# Load pre-trained model\n",
    "pipe = StableDiffusionPipeline.from_pretrained(\"runwayml/stable-diffusion-v1-5\")"
   ]
  },
  {
   "cell_type": "code",
   "execution_count": 2,
   "metadata": {},
   "outputs": [],
   "source": [
    "def get_list_of_files(files_folder):\n",
    "  import os\n",
    "  image_files = os.listdir(files_folder)\n",
    "  image_files = [os.path.join(files_folder, image_file) for image_file in image_files]\n",
    "  return image_files"
   ]
  },
  {
   "cell_type": "code",
   "execution_count": 4,
   "metadata": {},
   "outputs": [
    {
     "data": {
      "text/plain": [
       "[('data/user\\\\photo_0.png', 'A photo of jkk man'),\n",
       " ('data/user\\\\photo_1.jpg', 'A photo of jkk man'),\n",
       " ('data/user\\\\photo_2.png', 'A photo of jkk man'),\n",
       " ('data/user\\\\photo_3.jpg', 'A photo of jkk man')]"
      ]
     },
     "execution_count": 4,
     "metadata": {},
     "output_type": "execute_result"
    }
   ],
   "source": [
    "# Define your unique identifier\n",
    "identifier = \"jkk\"\n",
    "\n",
    "# Define the image paths and expressions\n",
    "DESCRIPTION = \"A photo of jkk man\"\n",
    "image_paths = get_list_of_files(\"data/user\")\n",
    "expressions = [DESCRIPTION] * len(image_paths)\n",
    "\n",
    "# Prepare training data\n",
    "training_data = []  # List of tuples (image, prompt)\n",
    "for image_path, expression in zip(image_paths, expressions):\n",
    "    prompt = expression.replace(\"a man\", identifier)\n",
    "    training_data.append((image_path, prompt))\n",
    "training_data"
   ]
  },
  {
   "cell_type": "code",
   "execution_count": null,
   "metadata": {},
   "outputs": [],
   "source": []
  },
  {
   "cell_type": "code",
   "execution_count": null,
   "metadata": {},
   "outputs": [],
   "source": [
    "# Generate Images\n",
    "prompt = f\"{identifier} riding a horse\"\n",
    "image = pipe(prompt, guidance_scale=4.0).images[0]"
   ]
  }
 ],
 "metadata": {
  "kernelspec": {
   "display_name": "Python 3",
   "language": "python",
   "name": "python3"
  },
  "language_info": {
   "codemirror_mode": {
    "name": "ipython",
    "version": 3
   },
   "file_extension": ".py",
   "mimetype": "text/x-python",
   "name": "python",
   "nbconvert_exporter": "python",
   "pygments_lexer": "ipython3",
   "version": "3.10.11"
  }
 },
 "nbformat": 4,
 "nbformat_minor": 2
}
